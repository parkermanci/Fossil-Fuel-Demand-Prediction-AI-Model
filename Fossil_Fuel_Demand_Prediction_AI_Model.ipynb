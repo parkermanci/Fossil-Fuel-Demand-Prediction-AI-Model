{
  "nbformat": 4,
  "nbformat_minor": 0,
  "metadata": {
    "colab": {
      "provenance": []
    },
    "kernelspec": {
      "name": "python3",
      "display_name": "Python 3"
    },
    "language_info": {
      "name": "python"
    }
  },
  "cells": [
    {
      "cell_type": "code",
      "execution_count": null,
      "metadata": {
        "id": "82KZcKhqPvPy"
      },
      "outputs": [],
      "source": [
        "import pandas as pd\n",
        "from sklearn.model_selection import train_test_split\n",
        "import tensorflow as tf\n",
        "from sklearn.linear_model import LinearRegression\n",
        "from sklearn.metrics import mean_squared_error\n",
        "import numpy as np"
      ]
    },
    {
      "cell_type": "code",
      "source": [
        "dataset = pd.read_csv('CreateDataset.csv')"
      ],
      "metadata": {
        "id": "OrLhRZX8YFXh"
      },
      "execution_count": null,
      "outputs": []
    },
    {
      "cell_type": "code",
      "source": [
        "x = dataset.drop(columns = ['Solar', 'Wind', 'Electricity'])\n",
        "y1 = dataset['Solar']\n",
        "y2 = dataset['Wind']\n",
        "y3 = dataset['Electricity']"
      ],
      "metadata": {
        "id": "mD3ogbFiP_W0"
      },
      "execution_count": null,
      "outputs": []
    },
    {
      "cell_type": "code",
      "source": [
        "x1_train, x1_test, y1_train, y1_test = train_test_split(x, y1, test_size = 0.2)\n",
        "model1 = LinearRegression()\n",
        "model1.fit(x1_train, y1_train)\n",
        "y1_pred = model1.predict(x1_test)\n",
        "mse1 = mean_squared_error(y1_test, y1_pred)"
      ],
      "metadata": {
        "id": "N22zucMKrZEV",
        "collapsed": true
      },
      "execution_count": null,
      "outputs": []
    },
    {
      "cell_type": "code",
      "source": [
        "x2_train, x2_test, y2_train, y2_test = train_test_split(x, y2, test_size = 0.2)\n",
        "model2 = LinearRegression()\n",
        "model2.fit(x2_train, y2_train)\n",
        "y2_pred = model2.predict(x2_test)\n",
        "mse2 = mean_squared_error(y2_test, y2_pred)"
      ],
      "metadata": {
        "id": "pL4h4UMMtBVV"
      },
      "execution_count": null,
      "outputs": []
    },
    {
      "cell_type": "code",
      "source": [
        "x3_train, x3_test, y3_train, y3_test = train_test_split(x, y3, test_size = 0.2)\n",
        "model3 = LinearRegression()\n",
        "model3.fit(x3_train, y3_train)\n",
        "y3_pred = model3.predict(x3_test)\n",
        "mse3 = mean_squared_error(y3_test, y3_pred)"
      ],
      "metadata": {
        "id": "WbkHK1lStBpg"
      },
      "execution_count": null,
      "outputs": []
    },
    {
      "cell_type": "code",
      "source": [
        "month = input(\"Enter the month:\\n\")\n",
        "hour = input(\"Enter the hour:\\n\")\n",
        "new_x_dataset = pd.DataFrame({'Month': [month],'Hour': [hour]})\n",
        "solar_power = model1.predict(new_x_dataset)\n",
        "wind_power = model2.predict(new_x_dataset)\n",
        "needed_power = model3.predict(new_x_dataset)\n",
        "solar_power *= 13200000\n",
        "wind_power *= 1400\n",
        "needed_power -= solar_power + wind_power\n",
        "print(needed_power)"
      ],
      "metadata": {
        "colab": {
          "base_uri": "https://localhost:8080/"
        },
        "id": "vF22HrUKYFQV",
        "outputId": "27e6d431-447d-4fe5-c6d1-c6445cd2b8c1"
      },
      "execution_count": null,
      "outputs": [
        {
          "output_type": "stream",
          "name": "stdout",
          "text": [
            "Enter the month:\n",
            "3\n",
            "Enter the hour:\n",
            "5\n",
            "[2.15983061e+10]\n"
          ]
        }
      ]
    }
  ]
}